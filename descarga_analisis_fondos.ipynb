{
  "cells": [
    {
      "cell_type": "markdown",
      "metadata": {
        "id": "_Q8USV20ga83"
      },
      "source": [
        "# LIGA DE INVERSORES: DESCARGA Y ANÁLISIS DE FONDOS"
      ]
    },
    {
      "cell_type": "code",
      "execution_count": null,
      "metadata": {
        "id": "OD894e4kbSKn"
      },
      "outputs": [],
      "source": [
        "from google.auth.transport.requests import Request\n",
        "from google.oauth2 import service_account\n",
        "from google.cloud import bigquery\n",
        "from google.auth.exceptions import DefaultCredentialsError\n",
        "import pandas as pd\n",
        "import numpy as np\n",
        "import matplotlib.pyplot as plt\n",
        "import seaborn as sns"
      ]
    },
    {
      "cell_type": "markdown",
      "metadata": {
        "id": "nCO8BcX2fns0"
      },
      "source": [
        "# DESCARGA DE LOS DATOS"
      ]
    },
    {
      "cell_type": "markdown",
      "metadata": {
        "id": "oLoMUc99THIr"
      },
      "source": [
        "Se cargan las credenciales para poder autenticarse."
      ]
    },
    {
      "cell_type": "code",
      "execution_count": null,
      "metadata": {
        "colab": {
          "base_uri": "https://localhost:8080/"
        },
        "id": "ZW9Thky8S50N",
        "outputId": "6767c7ae-f7f2-4f8b-9f53-459ea99b466c"
      },
      "outputs": [],
      "source": [
        "try:\n",
        "    # Crear las credenciales a partir del archivo de cuenta de servicio\n",
        "    credentials = service_account.Credentials.from_service_account_file(\n",
        "        'credenciales_liga_inversores.json',  # Ruta al archivo JSON que contiene las credenciales\n",
        "        scopes=[\"https://www.googleapis.com/auth/bigquery\"]  # Ámbito de acceso para BigQuery\n",
        "    )\n",
        "\n",
        "    # Refrescar el token de acceso en caso de que haya expirado\n",
        "    credentials.refresh(Request())  # Refresca el token utilizando una solicitud de autorización\n",
        "    print(\"Credenciales cargadas y token refrescado con éxito.\")  # Imprime un mensaje de éxito\n",
        "\n",
        "# Si ocurre un error relacionado con las credenciales, se captura y muestra el error\n",
        "except DefaultCredentialsError as e:\n",
        "    print(f\"Error de credenciales: {e}\")  # Muestra el mensaje de error relacionado con las credenciales\n",
        "\n",
        "# Si ocurre cualquier otro tipo de error, se captura y muestra el error\n",
        "except Exception as e:\n",
        "    print(f\"Se produjo un error: {e}\")  # Muestra un mensaje general para cualquier otro error\n"
      ]
    },
    {
      "cell_type": "markdown",
      "metadata": {
        "id": "fF9OoDmvUHCO"
      },
      "source": [
        "La lista de códigos ISIN (International Securities Identification Number) se genera como una cadena de texto en la que cada código ISIN está entre comillas y separado por comas. Para crearla, debes incluir los códigos ISIN válidos de los activos financieros que estás analizando."
      ]
    },
    {
      "cell_type": "code",
      "execution_count": null,
      "metadata": {
        "id": "a9h0w3uuVnwd"
      },
      "outputs": [],
      "source": [
        "#ListaISIN = \"'LU0625737753','FR0013289022','IE00B3XXRP09','DE000A0H08M3','NL0000289783','CH0012221716','HK0000069689'\"\n",
        "\n",
        "ListaISIN = \"'LU0625737753','IE00B3XXRP09','DE000A0H08M3','NL0000289783','CH0012221716','HK0000069689'\""
      ]
    },
    {
      "cell_type": "markdown",
      "metadata": {
        "id": "cA9euwSNUqGH"
      },
      "source": [
        "Este código realiza una consulta en Google BigQuery para obtener datos de valor liquidativo (NAV) de activos financieros identificados por códigos ISIN"
      ]
    },
    {
      "cell_type": "code",
      "execution_count": null,
      "metadata": {
        "id": "CnUDhRkqdrj-"
      },
      "outputs": [],
      "source": [
        "# Proyecto en el que se ejecuta.\n",
        "project = 'ironia-data'\n",
        "\n",
        "#Creacion  del cliente\n",
        "\n",
        "client = bigquery.Client(project=project, credentials=credentials)\n",
        "sql_str = \"SELECT * FROM( SELECT date,isin,nav FROM ironia-data.ironia.navs WHERE date BETWEEN '2020-01-01' AND CURRENT_DATE()) PIVOT (MAX(nav) FOR isin IN (\" + ListaISIN + \")) ORDER BY Date ASC\"\n"
      ]
    },
    {
      "cell_type": "markdown",
      "metadata": {
        "id": "pu42obSYa3S8"
      },
      "source": [
        "Da formato a los valores y muestra, para cada fondo, cuántos valores válidos (non-null) tiene"
      ]
    },
    {
      "cell_type": "code",
      "execution_count": null,
      "metadata": {
        "colab": {
          "base_uri": "https://localhost:8080/"
        },
        "id": "8GvguwVYWW6S",
        "outputId": "6a93c639-60ae-4bb5-dbd9-31fea625bd2e"
      },
      "outputs": [],
      "source": [
        "precios_fondos = client.query(sql_str).to_dataframe()\n",
        "\n",
        "precios_fondos = precios_fondos.set_index(\"date\")\n",
        "\n",
        "precios_fondos.info()"
      ]
    },
    {
      "cell_type": "markdown",
      "metadata": {
        "id": "Cgb6cJG5ab0b"
      },
      "source": [
        "Elimina los fondos que no tienen ningún valor válido y luego los días en los que no hay valores válidos. Luego guarda los valores en un fichero excel llamado precios_fondos.xlsx"
      ]
    },
    {
      "cell_type": "code",
      "execution_count": null,
      "metadata": {
        "id": "J9Pr7Mb1U5EM"
      },
      "outputs": [],
      "source": [
        "precios_fondos = precios_fondos.dropna(axis=1, how='all')\n",
        "\n",
        "precios_fondos = precios_fondos.dropna()\n",
        "\n",
        "precios_fondos.to_excel('precios_fondos.xlsx',index=False)"
      ]
    },
    {
      "cell_type": "markdown",
      "metadata": {
        "id": "0uoBtWdXgrQL"
      },
      "source": [
        "Mostrar los datos ya limpios"
      ]
    },
    {
      "cell_type": "code",
      "execution_count": null,
      "metadata": {
        "colab": {
          "base_uri": "https://localhost:8080/",
          "height": 455
        },
        "id": "YNqYicXpWEVj",
        "outputId": "bed660ac-9425-48af-f7af-c5bdecae3c71"
      },
      "outputs": [],
      "source": [
        "precios_fondos"
      ]
    },
    {
      "cell_type": "markdown",
      "metadata": {
        "id": "MjA6ngiTTzfr"
      },
      "source": [
        "_____________________________________________________________________________________________________________________________"
      ]
    },
    {
      "cell_type": "markdown",
      "metadata": {
        "id": "Iu1bwkagfwWN"
      },
      "source": [
        "# ANÁLISIS DE LOS DATOS"
      ]
    },
    {
      "cell_type": "code",
      "execution_count": null,
      "metadata": {
        "colab": {
          "base_uri": "https://localhost:8080/",
          "height": 449
        },
        "id": "a80yaDQpbrxX",
        "outputId": "a4b004e8-a9c7-4c44-dd25-7f1302848dd4"
      },
      "outputs": [],
      "source": [
        "precios_fondos.plot();"
      ]
    },
    {
      "cell_type": "markdown",
      "metadata": {
        "id": "7IIjcLS-UM3k"
      },
      "source": [
        "Vamos a crear un índice para comparar visualmente los activos de la cartera. Dividimos los precios actuales con los del instante de tiempo inicial `precios_fondos.iloc[0]`."
      ]
    },
    {
      "cell_type": "code",
      "execution_count": null,
      "metadata": {
        "colab": {
          "base_uri": "https://localhost:8080/",
          "height": 405
        },
        "id": "xCd4y4I3cFzf",
        "outputId": "5610eb6a-a56e-450a-a9cf-240e9d6860e6"
      },
      "outputs": [],
      "source": [
        "(precios_fondos/precios_fondos.iloc[0]).plot(figsize=(10, 4))"
      ]
    },
    {
      "cell_type": "markdown",
      "metadata": {
        "id": "DuhoxciDVIDF"
      },
      "source": [
        "En finanzas trabajamos con retornos porque nos centramos en **cómo los activos cambian** en comparación con su valor anterior, en lugar de mirar directamente el precio absoluto. Al hacerlo, podemos comparar diferentes activos y entender mejor cómo varían, lo que facilita la toma de decisiones y el análisis sin verse afectados por las diferencias en la escala de los precios."
      ]
    },
    {
      "cell_type": "code",
      "execution_count": null,
      "metadata": {
        "colab": {
          "base_uri": "https://localhost:8080/",
          "height": 482
        },
        "id": "3Qu9naMFcxbJ",
        "outputId": "2ac4fbc4-cfb8-4ecf-f48c-23b0dc16e4db"
      },
      "outputs": [],
      "source": [
        "returns_fondos = np.log(precios_fondos).diff().dropna()\n",
        "\n",
        "returns_fondos.plot(figsize=(15,5))"
      ]
    },
    {
      "cell_type": "code",
      "execution_count": null,
      "metadata": {
        "id": "A564MKppcfUn"
      },
      "outputs": [],
      "source": [
        "retornos_fondos_acum = returns_fondos.cumsum()"
      ]
    },
    {
      "cell_type": "code",
      "execution_count": null,
      "metadata": {
        "colab": {
          "base_uri": "https://localhost:8080/",
          "height": 482
        },
        "id": "x0hAL0SAclAF",
        "outputId": "8933862c-33a2-4095-dba4-17019fce0341"
      },
      "outputs": [],
      "source": [
        "retornos_fondos_acum.plot(figsize=(15,5))"
      ]
    },
    {
      "cell_type": "markdown",
      "metadata": {
        "id": "NuO2jtVpVTOo"
      },
      "source": [
        "Veamos ahora la distribución de los retornos. ¿A qué distribución se parece?"
      ]
    },
    {
      "cell_type": "code",
      "execution_count": null,
      "metadata": {
        "colab": {
          "base_uri": "https://localhost:8080/",
          "height": 522
        },
        "id": "PPRhqpABddGw",
        "outputId": "b6a8c21f-dad3-47c4-c464-4465551f922a"
      },
      "outputs": [],
      "source": [
        "fondo = 'NL0000289783'\n",
        "\n",
        "returns_fondos.loc[:, fondo].hist(bins=100, figsize=(12,6));"
      ]
    },
    {
      "cell_type": "markdown",
      "metadata": {
        "id": "brBoKvlcVhwn"
      },
      "source": [
        "RECORDAD: La distribución normal se caracteriza por dos parámetros: la media (\n",
        "𝜇), que determina su centro, y la desviación estándar (𝜎), que define su dispersión."
      ]
    },
    {
      "cell_type": "code",
      "execution_count": null,
      "metadata": {
        "id": "qAjPvYEeeL5F"
      },
      "outputs": [],
      "source": [
        "retornos_medios = returns_fondos.mean()\n",
        "retornos_año = 252 * retornos_medios"
      ]
    },
    {
      "cell_type": "code",
      "execution_count": null,
      "metadata": {
        "id": "nrIm4I6beUjb"
      },
      "outputs": [],
      "source": [
        "volatilidades = returns_fondos.std()\n",
        "volatilidades_año = np.sqrt(252) * volatilidades"
      ]
    },
    {
      "cell_type": "code",
      "execution_count": null,
      "metadata": {
        "colab": {
          "base_uri": "https://localhost:8080/",
          "height": 551
        },
        "id": "E9LUI7R8exZ5",
        "outputId": "6657436c-6f5f-4cf4-cab6-1f036a8293c2"
      },
      "outputs": [],
      "source": [
        "retornos_año.plot(kind='bar', title=\"Rentabilidades  medias\");"
      ]
    },
    {
      "cell_type": "code",
      "execution_count": null,
      "metadata": {
        "colab": {
          "base_uri": "https://localhost:8080/",
          "height": 551
        },
        "id": "Fg6PrZ-efWWY",
        "outputId": "5d7ce264-02f0-4e0a-fe2a-edfc028b285d"
      },
      "outputs": [],
      "source": [
        "volatilidades_año.plot(kind='bar', title=\"Volatilidades\");"
      ]
    },
    {
      "cell_type": "code",
      "execution_count": null,
      "metadata": {
        "colab": {
          "base_uri": "https://localhost:8080/",
          "height": 507
        },
        "id": "avcnCQZgZSQ7",
        "outputId": "9d76227b-22c0-4f6a-cb25-93d6caa1647a"
      },
      "outputs": [],
      "source": [
        "# Extraer las etiquetas de los nombres de las columnas\n",
        "etiquetas = volatilidades.index\n",
        "\n",
        "# Crear la gráfica con etiquetas\n",
        "plt.figure(figsize=(8, 5))\n",
        "plt.scatter(volatilidades_año, retornos_año,\n",
        "            color='blue', edgecolors='black', alpha=0.7)\n",
        "\n",
        "# Agregar etiquetas a los puntos\n",
        "for etiqueta, x, y in zip(etiquetas, volatilidades_año, retornos_año):\n",
        "    plt.text(x, y, etiqueta, fontsize=10, ha='right', va='bottom')\n",
        "\n",
        "# Etiquetas y título\n",
        "plt.xlabel('Volatilidad Media', fontsize=12)\n",
        "plt.ylabel('Rentabilidad Media', fontsize=12)\n",
        "plt.title('Rentabilidad vs Volatilidad de Activos', fontsize=14, fontweight='bold')\n",
        "\n",
        "# Agregar grid y mejorar visualización\n",
        "plt.grid(True, linestyle='--', alpha=0.6)\n",
        "plt.tight_layout()\n",
        "\n",
        "# Mostrar la gráfica\n",
        "plt.show()"
      ]
    },
    {
      "cell_type": "markdown",
      "metadata": {
        "id": "Q6oXJYjQaQ6X"
      },
      "source": [
        "**OJO**\n",
        "\n",
        "La rentabilidad de la cartera depende de las rentabilidades de cada activo ponderadas por sus respectivos pesos, mientras que la **varianza de la cartera** depende no solo de las varianzas individuales de los activos, sino también de las **covarianzas entre ellos**, reflejando cómo se relacionan sus movimientos.\n",
        "\n"
      ]
    },
    {
      "cell_type": "markdown",
      "metadata": {
        "id": "-4ITgGPCaMWM"
      },
      "source": [
        "Si llamamos:\n",
        "\n",
        "* $n$ al número de activos en la cartera\n",
        "\n",
        "* $w_i$ a la proporción de la inversión en el activo $i$ $\\Rightarrow \\sum_{i=1}^{n}w_i=1$\n",
        "\n",
        "* $\\bar R_i$ a la rentabilidad media del activo $i$\n",
        "\n",
        "* $\\sigma_{ij}$ a la covarianza entre los activos $i$ y $j$\n",
        "\n",
        "Entonces:\n",
        "\n",
        "* **Rentabilidad media** de la cartera $E(\\tilde R_p) = \\bar R_p = \\sum_{i=1}^{N}w_i E(\\tilde R_i)$\n",
        "\n",
        "* **Varianza** de la cartera: $\\sigma²(\\tilde R_p) = \\sigma_p^2= \\underset{Varianzas\\ activos} {\\underbrace{\\sum_{i=1}^{N} w_i²} \\sigma _i²} + \\underset{Relación\\ entre\\ activos} {\\underbrace{\\sum_{i=1}^{N}\\sum_{j=1}^{N}w_iw_j\\sigma_{ij}}}$\n"
      ]
    },
    {
      "cell_type": "code",
      "execution_count": null,
      "metadata": {
        "id": "j4DaqaZA3ydf"
      },
      "outputs": [],
      "source": [
        "mat_cov = returns_fondos.cov()"
      ]
    },
    {
      "cell_type": "code",
      "execution_count": null,
      "metadata": {
        "colab": {
          "base_uri": "https://localhost:8080/",
          "height": 546
        },
        "id": "rxeINcIT4n9e",
        "outputId": "c47d5ff7-ee81-4c5a-b559-eb3f373abac9"
      },
      "outputs": [],
      "source": [
        "sns.heatmap(252*mat_cov, annot=True, fmt=\".6f\", cmap=\"coolwarm\")"
      ]
    },
    {
      "cell_type": "code",
      "execution_count": null,
      "metadata": {
        "colab": {
          "base_uri": "https://localhost:8080/",
          "height": 175
        },
        "id": "1BipiIfLg6FU",
        "outputId": "bc3c3fb7-1c9e-401f-d0ff-716c767fc072"
      },
      "outputs": [],
      "source": [
        "mat_corr = returns_fondos.corr()\n",
        "mat_corr"
      ]
    },
    {
      "cell_type": "code",
      "execution_count": null,
      "metadata": {
        "colab": {
          "base_uri": "https://localhost:8080/",
          "height": 551
        },
        "id": "IOPbWQuw2fDj",
        "outputId": "0bee6eee-e20f-42ac-f3dd-82e4d08b8f18"
      },
      "outputs": [],
      "source": [
        "# Crear el heatmap con valores en las celdas\n",
        "sns.heatmap(mat_corr, annot=True, fmt=\".2f\", cmap=\"coolwarm\")"
      ]
    },
    {
      "cell_type": "markdown",
      "metadata": {
        "id": "gijdzJjR6oV3"
      },
      "source": [
        "**Rentabilidad** de la cartera $E(\\tilde R_p)=\\sum_{i=1}^{N}w_i E(\\tilde R_i)$"
      ]
    },
    {
      "cell_type": "markdown",
      "metadata": {
        "id": "_bMXoiUn6sc4"
      },
      "source": [
        "$E(\\tilde R_p)=\\begin{pmatrix}w_1 & w_2 & ... & w_N\\end{pmatrix}  \\begin{pmatrix}\\mu_1 \\\\\\mu_2  \\\\...  \\\\ \\mu_N\\end{pmatrix} = \\mathbf{w}^T\\mathbf{\\mu}$"
      ]
    },
    {
      "cell_type": "code",
      "execution_count": null,
      "metadata": {
        "id": "4_FxzIDzbENS"
      },
      "outputs": [],
      "source": [
        "num_activos = returns_fondos.shape[1]"
      ]
    },
    {
      "cell_type": "code",
      "execution_count": null,
      "metadata": {
        "colab": {
          "base_uri": "https://localhost:8080/"
        },
        "id": "FwNh1EPVW5r1",
        "outputId": "9b4d2105-5761-4fb1-ff96-4dea856ae25a"
      },
      "outputs": [],
      "source": [
        "\n",
        "pesos = np.ones(num_activos)/num_activos\n",
        "pesos"
      ]
    },
    {
      "cell_type": "code",
      "execution_count": null,
      "metadata": {
        "colab": {
          "base_uri": "https://localhost:8080/"
        },
        "id": "EueEaqf03c9I",
        "outputId": "6a972def-d9b4-4a87-a92a-89205b77afd2"
      },
      "outputs": [],
      "source": [
        "ret_cartera_año = pesos.T @ retornos_año\n",
        "ret_cartera_año"
      ]
    },
    {
      "cell_type": "markdown",
      "metadata": {
        "id": "xUMPOHgu61LN"
      },
      "source": [
        "$\\sigma²(\\tilde R_p)=\\begin{pmatrix}w_1 & w_2 & ... & w_N\\end{pmatrix} \\begin{pmatrix}\\sigma_1^2 & \\sigma_{12}^2 & ... & \\sigma_{1N}^2\\\\\n",
        " \\sigma_{21}^2& \\sigma_2^2 &...  & \\sigma_{2N}^2\\\\ ... & ... & ... & ...\\\\  \\sigma_{N1}^2& \\sigma_{N2}^2 & ... & \\sigma_N^2\\end{pmatrix} \\begin{pmatrix}w_1 \\\\w_2  \\\\...  \\\\ w_N\\end{pmatrix} = \\mathbf{w}^T\\mathbf{C}\\mathbf{w}$"
      ]
    },
    {
      "cell_type": "code",
      "execution_count": null,
      "metadata": {
        "colab": {
          "base_uri": "https://localhost:8080/"
        },
        "id": "Hl3hXAyi3p_t",
        "outputId": "4c1dbf92-44a5-4c9c-f1f9-cdf612ca01e7"
      },
      "outputs": [],
      "source": [
        "var_cartera = pesos.T @ mat_cov @ pesos\n",
        "var_cartera_año = 252 * var_cartera\n",
        "vol_cartera_año = np.sqrt(var_cartera_año)\n",
        "vol_cartera_año\n"
      ]
    },
    {
      "cell_type": "code",
      "execution_count": null,
      "metadata": {
        "colab": {
          "base_uri": "https://localhost:8080/",
          "height": 507
        },
        "id": "3tWehB--4e4j",
        "outputId": "dd491ff8-31aa-4e4e-e3f8-2ebebf2c6985"
      },
      "outputs": [],
      "source": [
        "# Extraer las etiquetas de los nombres de las columnas\n",
        "etiquetas = volatilidades.index\n",
        "\n",
        "# Crear la gráfica con etiquetas\n",
        "plt.figure(figsize=(8, 5))\n",
        "plt.scatter(volatilidades_año, retornos_año,\n",
        "            color='blue', edgecolors='black', alpha=0.7)\n",
        "\n",
        "# Agregar etiquetas a los puntos\n",
        "for etiqueta, x, y in zip(etiquetas, volatilidades_año, retornos_año):\n",
        "    plt.text(x, y, etiqueta, fontsize=10, ha='right', va='bottom')\n",
        "\n",
        "# Agregar el punto para la cartera\n",
        "plt.scatter(vol_cartera_año, ret_cartera_año,\n",
        "            color='red', edgecolors='black', marker='D', s=80, label='Cartera')\n",
        "\n",
        "# Etiquetas y título\n",
        "plt.xlabel('Volatilidad Media', fontsize=12)\n",
        "plt.ylabel('Rentabilidad Media', fontsize=12)\n",
        "plt.title('Rentabilidad vs Volatilidad de Activos', fontsize=14, fontweight='bold')\n",
        "\n",
        "# Agregar grid y mejorar visualización\n",
        "plt.grid(True, linestyle='--', alpha=0.6)\n",
        "plt.tight_layout()\n",
        "\n",
        "# Mostrar la gráfica\n",
        "plt.show()"
      ]
    },
    {
      "cell_type": "markdown",
      "metadata": {
        "id": "QqVCCZlo72en"
      },
      "source": [
        "______________________________________________"
      ]
    },
    {
      "cell_type": "markdown",
      "metadata": {
        "id": "sTIMw3cYZx6B"
      },
      "source": [
        "### ¿Cómo calcular los retornos de una cartera?"
      ]
    },
    {
      "cell_type": "markdown",
      "metadata": {
        "id": "oMyH9XAYW4t6"
      },
      "source": [
        "Si tenemos un vector $w$ que representa los pesos de los activos en la cartera y un DataFrame llamado `retornos` que contiene los retornos diarios de los activos, podemos calcular los retornos diarios de la cartera mediante el producto matricial:\n",
        "\n",
        "$$\n",
        "r_{\\text{cartera}} = retornos @ w\n",
        "$$\n",
        "\n",
        "Esto multiplica cada fila del DataFrame `retornos` por el vector de pesos $w$, obteniendo así los retornos diarios de la cartera.\n"
      ]
    },
    {
      "cell_type": "code",
      "execution_count": null,
      "metadata": {
        "colab": {
          "base_uri": "https://localhost:8080/",
          "height": 490
        },
        "id": "GG5RseZ1XEEL",
        "outputId": "7d2c48cb-bbd4-4609-bd13-cbc8c87255f9"
      },
      "outputs": [],
      "source": [
        "ret_cartera_t = returns_fondos @ pesos\n",
        "ret_cartera_t"
      ]
    },
    {
      "cell_type": "code",
      "execution_count": null,
      "metadata": {
        "colab": {
          "base_uri": "https://localhost:8080/",
          "height": 466
        },
        "id": "tgQy0YsBXP7Y",
        "outputId": "257e17e9-0582-4d6d-e325-868c81e5337d"
      },
      "outputs": [],
      "source": [
        "ret_cartera_t.plot()"
      ]
    },
    {
      "cell_type": "code",
      "execution_count": null,
      "metadata": {
        "id": "9cnJBZSIbZjf"
      },
      "outputs": [],
      "source": [
        "ret_cartera_t_año = 252 * ret_cartera_t.mean()\n",
        "vol_cartera_t_año = np.sqrt(252) * ret_cartera_t.std()"
      ]
    },
    {
      "cell_type": "code",
      "execution_count": null,
      "metadata": {
        "colab": {
          "base_uri": "https://localhost:8080/",
          "height": 507
        },
        "id": "dN9-Yt_GcF5c",
        "outputId": "ddbd2ca8-ab91-4671-8698-f830af00a581"
      },
      "outputs": [],
      "source": [
        "# Crear la gráfica con etiquetas\n",
        "plt.figure(figsize=(8, 5))\n",
        "plt.scatter(volatilidades_año, retornos_año,\n",
        "            color='blue', edgecolors='black', alpha=0.7, label='Activos')\n",
        "\n",
        "# Agregar etiquetas a los puntos\n",
        "for etiqueta, x, y in zip(etiquetas, volatilidades_año, retornos_año):\n",
        "    plt.text(x, y, etiqueta, fontsize=10, ha='right', va='bottom')\n",
        "\n",
        "# Agregar el punto de la cartera con otro símbolo\n",
        "plt.scatter(vol_cartera_t_año, ret_cartera_t_año, color='red', marker='D', s=100, label='Cartera')\n",
        "plt.text(vol_cartera_t_año, ret_cartera_t_año, 'Cartera', fontsize=10, ha='right', va='bottom', color='red')\n",
        "\n",
        "# Etiquetas y título\n",
        "plt.xlabel('Volatilidad Media', fontsize=12)\n",
        "plt.ylabel('Rentabilidad Media', fontsize=12)\n",
        "plt.title('Rentabilidad vs Volatilidad de Activos', fontsize=14, fontweight='bold')\n",
        "\n",
        "# Agregar grid y mejorar visualización\n",
        "plt.grid(True, linestyle='--', alpha=0.6)\n",
        "plt.legend()\n",
        "plt.tight_layout()\n",
        "\n",
        "# Mostrar la gráfica\n",
        "plt.show()"
      ]
    },
    {
      "cell_type": "code",
      "execution_count": null,
      "metadata": {
        "id": "hjqukCbqXb2D"
      },
      "outputs": [],
      "source": [
        "ret_cartera_t_acum = ret_cartera_t.cumsum()\n"
      ]
    },
    {
      "cell_type": "code",
      "execution_count": null,
      "metadata": {
        "colab": {
          "base_uri": "https://localhost:8080/",
          "height": 507
        },
        "id": "_Nw3vMuHXgMw",
        "outputId": "96ac9860-279a-4fe8-8206-1adcddd1fb53"
      },
      "outputs": [],
      "source": [
        "# Crear la figura\n",
        "plt.figure(figsize=(10, 5))\n",
        "\n",
        "# Graficar ambos retornos acumulados\n",
        "plt.plot(ret_cartera_t_acum, label='Cartera', linewidth=2, color='blue')\n",
        "plt.plot(retornos_fondos_acum, label='Fondos', linewidth=1, color='green', linestyle='dashed')\n",
        "\n",
        "# Personalización\n",
        "plt.title('Evolución de los Retornos Acumulados', fontsize=14, fontweight='bold')\n",
        "plt.xlabel('Fecha', fontsize=12)\n",
        "plt.ylabel('Retorno Acumulado', fontsize=12)\n",
        "plt.legend()\n",
        "plt.grid(True, linestyle='--', alpha=0.6)\n",
        "plt.tight_layout()\n",
        "\n",
        "# Mostrar la gráfica\n",
        "plt.show()\n"
      ]
    },
    {
      "cell_type": "code",
      "execution_count": null,
      "metadata": {
        "colab": {
          "base_uri": "https://localhost:8080/"
        },
        "id": "5Mnc959vduM3",
        "outputId": "1c4fff1e-aa9f-4329-914e-a7ce7216e21f"
      },
      "outputs": [],
      "source": [
        "num_carteras = 50000\n",
        "pesos_alea = pesos = np.random.random((num_carteras, num_activos))\n",
        "pesos = pesos / np.sum(pesos, axis=1, keepdims=True)\n",
        "pesos.shape"
      ]
    },
    {
      "cell_type": "code",
      "execution_count": null,
      "metadata": {
        "colab": {
          "base_uri": "https://localhost:8080/"
        },
        "id": "PkNts7TSeCJZ",
        "outputId": "d1feebba-5654-423b-fd4b-8d8e6a1f3e13"
      },
      "outputs": [],
      "source": [
        "ret_cartera_t.shape"
      ]
    },
    {
      "cell_type": "code",
      "execution_count": null,
      "metadata": {
        "colab": {
          "base_uri": "https://localhost:8080/"
        },
        "id": "CNRz8q-Dd6ZB",
        "outputId": "68024192-7846-47d5-8167-16f4b787e2d7"
      },
      "outputs": [],
      "source": [
        "ret_carteras_sim = returns_fondos @ pesos.T\n",
        "ret_carteras_sim.shape"
      ]
    },
    {
      "cell_type": "code",
      "execution_count": null,
      "metadata": {
        "colab": {
          "base_uri": "https://localhost:8080/"
        },
        "id": "DPg5CnHgeQaR",
        "outputId": "72e381a1-64f3-46bb-ce5b-5c83ea6e0754"
      },
      "outputs": [],
      "source": [
        "ret_carteras_sim_mean = ret_carteras_sim.mean(axis=0)\n",
        "ret_carteras_sim_mean.shape"
      ]
    },
    {
      "cell_type": "code",
      "execution_count": null,
      "metadata": {
        "colab": {
          "base_uri": "https://localhost:8080/"
        },
        "id": "nv6lcRY-eSbw",
        "outputId": "cd1f34fd-c3d4-4747-b5c2-d4dbcbc6f400"
      },
      "outputs": [],
      "source": [
        "vol_carteras_sim = ret_carteras_sim.std(axis=0)\n",
        "vol_carteras_sim.shape"
      ]
    },
    {
      "cell_type": "code",
      "execution_count": null,
      "metadata": {
        "id": "6mfPmydgIDl9"
      },
      "outputs": [],
      "source": [
        "ret_carteras_sim_mean_año = 252 * ret_carteras_sim_mean\n",
        "vol_carteras_sim_año = np.sqrt(252) * vol_carteras_sim"
      ]
    },
    {
      "cell_type": "code",
      "execution_count": null,
      "metadata": {
        "colab": {
          "base_uri": "https://localhost:8080/",
          "height": 565
        },
        "id": "SrngKdJV-6PS",
        "outputId": "a537c6e0-9c1a-4c9b-f06d-8dfe360b636b"
      },
      "outputs": [],
      "source": [
        "# Ajustar el tamaño de la figura (ancho x alto en pulgadas)\n",
        "plt.figure(figsize=(10, 6))\n",
        "\n",
        "plt.scatter(vol_carteras_sim, ret_carteras_sim_mean, c=ret_carteras_sim_mean / vol_carteras_sim, marker='o', cmap='coolwarm')\n",
        "for a in returns_fondos.columns:\n",
        "    plt.plot(volatilidades[a], retornos_medios[a], 'o', color=\"magenta\")\n",
        "\n",
        "# Añadir etiquetas a los ejes\n",
        "plt.xlabel('Volatilidad diaria')\n",
        "plt.ylabel('Retornos diarios')\n",
        "\n",
        "# Título opcional para el gráfico\n",
        "plt.title('Relación entre Volatilidad y Retornos')\n",
        "\n",
        "plt.colorbar(label='Ratio Retorno/Volatilidad')\n",
        "plt.grid(True, linestyle='--', alpha=0.7)\n",
        "plt.show()\n"
      ]
    },
    {
      "cell_type": "markdown",
      "metadata": {
        "id": "SNppP4LcZ_eI"
      },
      "source": [
        "# VAMOS A OPTIMIZAR CARTERAS CON ESTOS ACTIVOS"
      ]
    },
    {
      "cell_type": "markdown",
      "metadata": {
        "id": "QxEYIFe57LqG"
      },
      "source": [
        "Nuestro objetivo es **mimimizar/maximizar $f_0(x|w)$** sujeto a $f_i(x|w) \\leq b_i$,   $\\qquad i= 1,...,m$"
      ]
    },
    {
      "cell_type": "markdown",
      "metadata": {
        "id": "wS_JmcMx7OVD"
      },
      "source": [
        "donde:\n",
        "\n",
        "- $x = (x_1, x_2,..., x_n)$ son las variables\n",
        "\n",
        "- $w = (w_1, w_2,..., w_n)$ son los parámetros\n",
        "\n",
        "- $f_0: \\mathbb{R}^n \\rightarrow \\mathbb{R}$  es la función objetivo\n",
        "\n",
        "- $f_i: \\mathbb{R}^n \\rightarrow \\mathbb{R}$ son las restricciones"
      ]
    },
    {
      "cell_type": "markdown",
      "metadata": {
        "id": "dZCR9t3o7U1I"
      },
      "source": [
        "**Solución**: $w^*$ son los parámetros, de entre todos los vectores que cumplen las restricciones, que hace que $f_0(x | w^*)$ tenga el valor mínimo/máximo."
      ]
    },
    {
      "cell_type": "markdown",
      "metadata": {
        "id": "bRERM-mz7Zwu"
      },
      "source": [
        "**EJEMPLO: OPTIMIZACIÓN DE UNA CARTERA**\n",
        "\n",
        "- *variables:*     retornos esperados de cada activo\n",
        "- *parámetros:*    cantidades o pesos que invierto en cada activo\n",
        "- *restricciones:* presupuesto total, max/min cantidad invertida en un activo, retorno mínimo de la cartera\n",
        "- *objetivo:*      riesgo o volatilidad"
      ]
    },
    {
      "cell_type": "markdown",
      "metadata": {
        "id": "X20lvWfi7uuk"
      },
      "source": [
        "Las ventajas de los problemas de optimización convexa incluyen:\n",
        "\n",
        "- **Solución Óptima Global**: Cualquier mínimo local es también un mínimo global, lo que asegura que la solución encontrada es la mejor posible.\n",
        "\n",
        "- **Amplia Aplicabilidad**: Los problemas de optimización convexa son relevantes en muchos campos, como la economía, la ingeniería, el machine learning y la investigación operativa.\n",
        "\n",
        "- **Simplicidad de Implementación**: Los algoritmos para resolver problemas convexos son sencillos de implementar.\n",
        "\n",
        "- **Eficiencia Computacional**: Los algoritmos para resolver problemas convexos son generalmente eficientes y bien entendidos, lo que permite soluciones rápidas y confiables."
      ]
    },
    {
      "cell_type": "markdown",
      "metadata": {
        "id": "iO_T1pBn7zfF"
      },
      "source": [
        "Los problemas de optimización de carteras de activos financieros son **PROBLEMAS DE OPTIMIZACIÓN CONVEXA**:\n",
        "\n",
        "1. **Función Objetivo Convexa**:\n",
        "   - En la optimización de carteras, como en el modelo de Markowitz, la función objetivo suele ser minimizar el riesgo (varianza o desviación estándar) o maximizar el rendimiento esperado.\n",
        "   - La varianza (riesgo) es una función cuadrática de los pesos de los activos, que es convexa por definición.\n",
        "   \n",
        "<br>\n",
        "\n",
        "2. **Restricciones Convexas**:\n",
        "    - Las restricciones comunes, como la suma de los pesos igual a 1 y las restricciones de no-negatividad, son lineales (afines). Estas restricciones son convexas, lo que significa que el conjunto de soluciones posibles (el espacio factible) es un conjunto convexo."
      ]
    },
    {
      "cell_type": "markdown",
      "metadata": {
        "id": "ZBJ1bpb89DjR"
      },
      "source": [
        "Para la **resolución de problemas de optimización convexa en python** existen básicamente 3 métodos:\n",
        "\n",
        "- Implementación de los distintos algoritmos de optimización (solvers), como, por ejemplo, Gurovi, Scipy PuLP, GLPK, CPLEX, etc.\n",
        "\n",
        "- Diseño de tu propio algoritmo (modelos de Machine Learning).\n",
        "\n",
        "- Usar una librería de alto nivel (CVXPY), que integra los solvers estandar usando un lenguaje de alto nivel."
      ]
    },
    {
      "cell_type": "markdown",
      "metadata": {
        "id": "BzzGsnPg9GUO"
      },
      "source": [
        "**CVXPY** es un lenguaje específico para la optimización convexa integrado en Python. Sus características principales incluyen:\n",
        "  \n",
        "- **Expresión Natural de Problemas**:\n",
        "  - Permite a los usuarios formular problemas de optimización convexa utilizando una sintaxis de alto nivel que sigue la lógica matemática.\n",
        "\n",
        "- **Compatibilidad con Solucionadores Conocidos**:\n",
        "  - Facilita el uso de los solvers de optimización más conocidos\n",
        "  \n",
        "- **Verifica que el problema es convexo**:\n",
        "  - La librería tiene herramientas para comprobar si el problema de optimización es convexo."
      ]
    },
    {
      "cell_type": "code",
      "execution_count": null,
      "metadata": {
        "id": "YgGsDp-uWRgu"
      },
      "outputs": [],
      "source": [
        "import cvxpy as cp"
      ]
    },
    {
      "cell_type": "code",
      "execution_count": null,
      "metadata": {
        "colab": {
          "base_uri": "https://localhost:8080/"
        },
        "id": "QVfFbyiP9lLg",
        "outputId": "7d78d9dd-49d5-410a-c178-f53b5f27d67d"
      },
      "outputs": [],
      "source": [
        "print(cp.installed_solvers())"
      ]
    },
    {
      "cell_type": "code",
      "execution_count": null,
      "metadata": {
        "colab": {
          "base_uri": "https://localhost:8080/",
          "height": 238
        },
        "id": "8oYJZFt8Z3AM",
        "outputId": "70930c26-7df9-45e6-bd0a-ae5e5271f448"
      },
      "outputs": [],
      "source": [
        "returns_fondos.head()"
      ]
    },
    {
      "cell_type": "code",
      "execution_count": null,
      "metadata": {
        "colab": {
          "base_uri": "https://localhost:8080/"
        },
        "id": "EWSaf4gdW2_C",
        "outputId": "004e686f-e96c-4201-c5c6-77f214ba280c"
      },
      "outputs": [],
      "source": [
        "mat_cov = returns_fondos.cov().to_numpy()\n",
        "mat_cov.shape"
      ]
    },
    {
      "cell_type": "code",
      "execution_count": null,
      "metadata": {
        "id": "ElXi5U5TW_5H"
      },
      "outputs": [],
      "source": [
        "num_activos = returns_fondos.shape[1]"
      ]
    },
    {
      "cell_type": "code",
      "execution_count": null,
      "metadata": {
        "id": "BxXnkylwWcge"
      },
      "outputs": [],
      "source": [
        "# definimos los parámetros\n",
        "pesos = cp.Variable(num_activos)"
      ]
    },
    {
      "cell_type": "code",
      "execution_count": null,
      "metadata": {
        "id": "1s82vSC_X34z"
      },
      "outputs": [],
      "source": [
        "#Restricciones\n",
        "constraints = [pesos >= 0,\n",
        "               cp.sum(pesos) == 1,\n",
        "               ]"
      ]
    },
    {
      "cell_type": "code",
      "execution_count": null,
      "metadata": {
        "id": "I5E83eMpWomS"
      },
      "outputs": [],
      "source": [
        "# Función objetivo\n",
        "riesgo = cp.quad_form(pesos, mat_cov)\n",
        "objetivo = cp.Minimize(riesgo)"
      ]
    },
    {
      "cell_type": "code",
      "execution_count": null,
      "metadata": {
        "id": "P9gIfbW_Xt3_"
      },
      "outputs": [],
      "source": [
        "#Problema y resuelvo\n",
        "prob = cp.Problem(objetivo, constraints)\n",
        "resultado = prob.solve()"
      ]
    },
    {
      "cell_type": "code",
      "execution_count": null,
      "metadata": {
        "id": "dVaKK0ZFcKyl"
      },
      "outputs": [],
      "source": [
        "ret = retornos_medios.T @ pesos.value"
      ]
    },
    {
      "cell_type": "code",
      "execution_count": null,
      "metadata": {
        "colab": {
          "base_uri": "https://localhost:8080/"
        },
        "id": "0uPMuS6mYoOT",
        "outputId": "0fa1a420-403c-4293-a98c-55e9112976cc"
      },
      "outputs": [],
      "source": [
        "print(f'Los pesos que hacen que la cartera tenga el mínimo riesgo son: \\n{pesos.value}')"
      ]
    },
    {
      "cell_type": "code",
      "execution_count": null,
      "metadata": {
        "colab": {
          "base_uri": "https://localhost:8080/"
        },
        "id": "53NrF5GaaSXp",
        "outputId": "1bf9c38b-ba29-4265-c882-e74b7939e3c1"
      },
      "outputs": [],
      "source": [
        "print(f' La rentabilidad es {252*ret} y la volatilidad es {np.sqrt(252*riesgo.value)}')"
      ]
    },
    {
      "cell_type": "code",
      "execution_count": null,
      "metadata": {
        "id": "TaYSsxtlf1M7"
      },
      "outputs": [],
      "source": [
        "#riesgo máximo\n",
        "riesgo_obj = 0.011"
      ]
    },
    {
      "cell_type": "code",
      "execution_count": null,
      "metadata": {
        "id": "xglHutWtfRfu"
      },
      "outputs": [],
      "source": [
        "pesos_riesgo = cp.Variable(num_activos)\n",
        "retornos_esperados = retornos_medios.to_numpy()\n",
        "\n",
        "# Función objetivo\n",
        "rentabilidad = cp.Maximize(retornos_esperados.T @ pesos_riesgo)\n",
        "\n",
        "#Restricciones\n",
        "riesgo = cp.quad_form(pesos_riesgo, mat_cov)\n",
        "\n",
        "constraints = [pesos_riesgo >= 0,\n",
        "                cp.sum(pesos_riesgo) == 1,\n",
        "                riesgo <= riesgo_obj**2 # OJO AQUI! riesgo objetivo al cuadrado\n",
        "                ]\n",
        "\n",
        "prob = cp.Problem(rentabilidad, constraints)\n",
        "resultado = prob.solve()"
      ]
    },
    {
      "cell_type": "code",
      "execution_count": null,
      "metadata": {
        "id": "LSQ73DZMfa3A"
      },
      "outputs": [],
      "source": [
        "vol = np.sqrt(riesgo.value)"
      ]
    },
    {
      "cell_type": "code",
      "execution_count": null,
      "metadata": {
        "id": "Uo7bNbqTgqeO"
      },
      "outputs": [],
      "source": [
        "ret = rentabilidad.value"
      ]
    },
    {
      "cell_type": "code",
      "execution_count": null,
      "metadata": {
        "colab": {
          "base_uri": "https://localhost:8080/"
        },
        "id": "HIHiHFLpg0Xu",
        "outputId": "b1aeacee-2345-4da5-f18f-c2b9655a1db8"
      },
      "outputs": [],
      "source": [
        "print(f' La rentabilidad es {ret:.2f} y la volatilidad es {vol}')"
      ]
    },
    {
      "cell_type": "code",
      "execution_count": null,
      "metadata": {
        "colab": {
          "base_uri": "https://localhost:8080/",
          "height": 565
        },
        "id": "iAD90xYxAbjt",
        "outputId": "a891fb0d-4c6e-4990-c2be-56f8b6672e50"
      },
      "outputs": [],
      "source": [
        "# Ajustar el tamaño de la figura (ancho x alto en pulgadas)\n",
        "plt.figure(figsize=(10, 6))\n",
        "\n",
        "# Gráfico original\n",
        "plt.scatter(vol_carteras_sim, ret_carteras_sim_mean, c=ret_carteras_sim_mean / vol_carteras_sim, marker='o', cmap='coolwarm')\n",
        "for a in returns_fondos.columns:\n",
        "    plt.plot(volatilidades[a], retornos_medios[a], 'o', color=\"magenta\")\n",
        "\n",
        "# Añadir el punto (vol, ret) en color verde y con etiqueta\n",
        "plt.plot(vol, ret, 'o', color='green', label='Solución Óptima')\n",
        "plt.text(vol, ret, f'({vol}, {ret})', fontsize=10, verticalalignment='bottom', horizontalalignment='right', color='green')\n",
        "\n",
        "# Añadir etiquetas a los ejes\n",
        "plt.xlabel('Volatilidad diaria')\n",
        "plt.ylabel('Retornos diarios')\n",
        "\n",
        "# Título opcional para el gráfico\n",
        "plt.title('Relación entre Volatilidad y Retornos')\n",
        "\n",
        "# Barra de color para interpretar los colores\n",
        "plt.colorbar(label='Ratio Retorno/Volatilidad')\n",
        "\n",
        "# Leyenda para los puntos\n",
        "plt.legend()\n",
        "\n",
        "# Rejilla para facilitar la lectura\n",
        "plt.grid(True, linestyle='--', alpha=0.7)\n",
        "\n",
        "# Mostrar el gráfico\n",
        "plt.show()\n"
      ]
    },
    {
      "cell_type": "markdown",
      "metadata": {
        "id": "acyGiAKzibQ7"
      },
      "source": [
        "# Nueva sección"
      ]
    }
  ],
  "metadata": {
    "colab": {
      "provenance": []
    },
    "kernelspec": {
      "display_name": "Python 3",
      "name": "python3"
    },
    "language_info": {
      "codemirror_mode": {
        "name": "ipython",
        "version": 3
      },
      "file_extension": ".py",
      "mimetype": "text/x-python",
      "name": "python",
      "nbconvert_exporter": "python",
      "pygments_lexer": "ipython3",
      "version": "3.12.4"
    }
  },
  "nbformat": 4,
  "nbformat_minor": 0
}
